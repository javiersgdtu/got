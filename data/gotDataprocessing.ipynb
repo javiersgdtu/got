{
 "cells": [
  {
   "cell_type": "markdown",
   "metadata": {},
   "source": [
    "We use this Notebook to format the original data into an output json file (got.json) that we will use in our D3 visualization.\n",
    "The input data comes from the awesome datasets created by Jefrey Lancaster (github.com/jeffreylancaster)."
   ]
  },
  {
   "cell_type": "code",
   "execution_count": null,
   "metadata": {},
   "outputs": [],
   "source": [
    "#Importing libraries\n",
    "import pandas as pd\n",
    "import psycopg2 as pg\n",
    "import pandas.io.sql as psql\n",
    "import numpy as np;\n",
    "import json\n",
    "from pandas.io.json import json_normalize  "
   ]
  },
  {
   "cell_type": "code",
   "execution_count": null,
   "metadata": {},
   "outputs": [],
   "source": [
    "# Import GOT Houses families \n",
    "# Can be found in github.com/jeffreylancaster/game-of-thrones/blob/master/data/characters-groups.json\n",
    "with open(\"./characters-groups.json\") as f: \n",
    "    d = json.load(f)  \n",
    "characters_gr = json_normalize(d['groups']) \n",
    "print(characters_gr.shape)\n",
    "characters_gr.head(3) \n",
    "\n",
    "# Import colors asociated to characters\n",
    "# Can be found in github.com/jeffreylancaster/game-of-thrones/blob/master/data/colors.json\n",
    "with open(\"./colors.json\") as f: \n",
    "    d = json.load(f)  \n",
    "colors_or = json_normalize(d['colors']) \n",
    "print(colors_or.shape)\n",
    "colors_or.head(3)\n"
   ]
  },
  {
   "cell_type": "code",
   "execution_count": null,
   "metadata": {},
   "outputs": [],
   "source": [
    "# Import episodes.json. Main json file.\n",
    "# Can be found in github.com/jeffreylancaster/game-of-thrones/blob/master/data/episodes.json\n",
    "with open(\"./episodes.json\") as f: \n",
    "    d = json.load(f)  \n",
    "episodes = json_normalize(d['episodes']) \n",
    "print(episodes.shape)\n",
    "episodes.head(3) "
   ]
  },
  {
   "cell_type": "code",
   "execution_count": null,
   "metadata": {
    "scrolled": true
   },
   "outputs": [],
   "source": [
    "#Most of the interesting information of each episode is within the scenes array.\n",
    "episodes_mod=episodes.copy()\n",
    "new_df=pd.DataFrame()\n",
    "char_fin=[]\n",
    "char_size=[]\n",
    "for ix,i in episodes_mod.iterrows():\n",
    "    characters=[]\n",
    "    #print (ix)\n",
    "    #print(i)\n",
    "    i=0;\n",
    "    for j in episodes_mod.scenes[ix]:\n",
    "            #print(ix)\n",
    "            #print(j[\"sceneStart\"])\n",
    "            #print(j[\"sceneEnd\"])\n",
    "            #print(( pd.to_timedelta(j[\"sceneEnd\"], unit='s')-pd.to_timedelta(j[\"sceneStart\"], unit='s')).seconds)\n",
    "            \n",
    "            # Here we calculate how much time each character appears in each scene.\n",
    "            j.update({\"duration\":( pd.to_timedelta(j[\"sceneEnd\"], unit='s')-pd.to_timedelta(j[\"sceneStart\"], unit='s')).seconds})\n",
    "            for x in j[\"characters\"]:\n",
    "                      x.update({\"duration\":j[\"duration\"]})\n",
    "                      #we check whether the character dies in this episode.\n",
    "                      if \"alive\" not in x:\n",
    "                          characters.append({\"name\":x[\"name\"],\"duration\":x[\"duration\"],\"position\":i,\"death\":0})\n",
    "                      else:\n",
    "                          characters.append({\"name\":x[\"name\"],\"duration\":x[\"duration\"],\"position\":i,\"death\":1}) \n",
    "                      i=i+1;\n",
    "    #print(characters)\n",
    "    temp_dat=pd.DataFrame(characters)\n",
    "    #We group by name of character to get how much time in each episode a character appears and the moment in which appears.\n",
    "    temp_dat=temp_dat.groupby([\"name\"],as_index=False).agg({\"duration\":\"sum\",\"position\":\"min\",\"death\":\"max\"})\n",
    "    \n",
    "    #Reorder elements to have proper position column\n",
    "    temp_dat.sort_values([\"position\"],ascending=True,inplace=True)\n",
    "    temp_dat.drop([\"position\"],axis=1,inplace=True)\n",
    "    temp_dat.reset_index(inplace=True,drop=True)\n",
    "    temp_dat.reset_index(inplace=True)\n",
    "    temp_dat.rename({\"index\":\"position\"},axis=1,inplace=1)\n",
    "    temp_dat[\"position\"]=temp_dat[\"position\"]*(65/np.shape(temp_dat)[0]) #normalize to 65 = max nb of users in a episode\n",
    "    #print(temp_dat[\"position\"].max())\n",
    "    #print(temp_dat)\n",
    "    \n",
    "    #add other relevant columns\n",
    "    temp_dat[\"episode\"]= episodes_mod.index[ix]\n",
    "    temp_dat[\"episodeTitle\"]= episodes_mod.episodeTitle[ix]\n",
    "    temp_dat[\"seasonNum\"]= episodes_mod.seasonNum[ix]\n",
    "    temp_dat[\"episodeDescription\"]= episodes_mod.episodeDescription[ix]\n",
    "    temp_dat[\"nbcharacters\"]= np.shape(temp_dat)[0]\n",
    "\n",
    "    new_df= new_df.append(temp_dat)\n",
    "     \n",
    "new_df.reset_index(inplace=True,drop=True)\n",
    "#Format to minutes.\n",
    "new_df[\"time_in_episode\"]=np.round(new_df[\"duration\"]/60,1)\n"
   ]
  },
  {
   "cell_type": "code",
   "execution_count": null,
   "metadata": {
    "scrolled": true
   },
   "outputs": [],
   "source": [
    "#Use the colors of colors.json for each character.\n",
    "colors=colors_or.copy()\n",
    "colors.dropna(subset=[\"class\"],inplace=True)\n",
    "for i,j in colors.iterrows():\n",
    "    colors.loc[i,\"class\"]= colors.loc[i,\"class\"][0]\n",
    "   \n",
    "characters_gr[\"name\"]=characters_gr.name.str.lower()\n",
    "#Merge colors and character families in characters_gr\n",
    "characters_gr=characters_gr.merge(colors[[\"class\",\"webSafe\"]],right_on=\"class\",left_on=\"name\")\n",
    "\n",
    "#we add to new_df the family and colour of the character.\n",
    "for ix,i in characters_gr.iterrows():\n",
    "        print (i)\n",
    "        new_df.loc[new_df[\"name\"].isin(i[\"characters\"]),\"family\"]=i[\"name\"]\n",
    "        new_df.loc[new_df[\"name\"].isin(i[\"characters\"]),\"colour\"]=i[\"webSafe\"]\n",
    "\n",
    "new_df.family.fillna(\"include\",inplace=True)\n",
    "new_df.loc[new_df[\"family\"]==\"include\",\"colour\"]=\"#CC9999\"\n",
    "new_df.loc[new_df[\"family\"]==\"white walkers\",\"colour\"]=\"#87CEFA\"\n",
    "new_df.loc[new_df[\"family\"]==\"night's watch\",\"colour\"]=\"#000000\"\n",
    "new_df.loc[new_df[\"family\"]==\"wildlings\",\"colour\"]=\"#66CCCC\"\n",
    "#check\n",
    "#new_df.loc[new_df[\"colour\"].isna()]"
   ]
  },
  {
   "cell_type": "code",
   "execution_count": null,
   "metadata": {
    "scrolled": true
   },
   "outputs": [],
   "source": [
    "#Result dataframe that we will export as json file. \n",
    "new_df.head(10)"
   ]
  },
  {
   "cell_type": "code",
   "execution_count": null,
   "metadata": {},
   "outputs": [],
   "source": [
    "new_df.to_json(\"./data_out/got.json\",orient='records')"
   ]
  }
 ],
 "metadata": {
  "kernelspec": {
   "display_name": "Python 3",
   "language": "python",
   "name": "python3"
  },
  "language_info": {
   "codemirror_mode": {
    "name": "ipython",
    "version": 3
   },
   "file_extension": ".py",
   "mimetype": "text/x-python",
   "name": "python",
   "nbconvert_exporter": "python",
   "pygments_lexer": "ipython3",
   "version": "3.7.4"
  },
  "toc": {
   "base_numbering": 1,
   "nav_menu": {},
   "number_sections": true,
   "sideBar": true,
   "skip_h1_title": false,
   "title_cell": "Table of Contents",
   "title_sidebar": "Contents",
   "toc_cell": false,
   "toc_position": {},
   "toc_section_display": true,
   "toc_window_display": false
  }
 },
 "nbformat": 4,
 "nbformat_minor": 2
}
